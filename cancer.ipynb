from sklearn.datasets import load_breast_cancer # loading data
from sklearn.neighbors import KNeighborsClassifier # machine learning algoritm
from sklearn.model_selection import train_test_split #load the train dataset

import matplotlib.pyplot as plt
%matplotlib inline

cancer = load_breast_cancer()
print(cancer.DESCR)